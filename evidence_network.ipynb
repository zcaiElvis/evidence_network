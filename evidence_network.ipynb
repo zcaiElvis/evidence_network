{
 "cells": [
  {
   "cell_type": "code",
   "execution_count": 43,
   "id": "c1238056",
   "metadata": {},
   "outputs": [],
   "source": [
    "import torch.nn as nn\n",
    "import torch.nn.functional as F\n",
    "import torch as tc\n",
    "from torch.utils.data import Dataset, DataLoader\n",
    "from torchvision import datasets\n",
    "from torchvision.transforms import ToTensor\n",
    "from torch.utils.data import random_split\n",
    "\n",
    "import torch.optim as optim\n",
    "\n",
    "\n",
    "import pyro.distributions as dist\n",
    "\n",
    "from tqdm import tqdm\n",
    "\n",
    "import matplotlib.pyplot as plt"
   ]
  },
  {
   "cell_type": "markdown",
   "id": "cd01fbac",
   "metadata": {},
   "source": [
    "## Creating network"
   ]
  },
  {
   "cell_type": "code",
   "execution_count": 44,
   "id": "26347a40",
   "metadata": {},
   "outputs": [],
   "source": [
    "class Net(nn.Module):\n",
    "    def __init__(self):\n",
    "        super().__init__()\n",
    "        self.conv1 = nn.Conv1d(1, 1, 101, stride = 1) # 15000 - 101 + 1 = 14900\n",
    "        self.pool1 = nn.MaxPool1d(100) # 14900/100 = 149\n",
    "        \n",
    "        self.conv2 = nn.Conv1d(1, 1, 10) # 149 - 10 + 1 = 140\n",
    "        self.pool2 = nn.MaxPool1d(10)# 140/10 = 14\n",
    "        \n",
    "        self.fc1 = nn.Linear(14, 1)\n",
    "\n",
    "    def forward(self, x):\n",
    "        x = self.pool1(F.relu(self.conv1(x)))\n",
    "        x = self.pool2(F.relu(self.conv2(x)))\n",
    "        x = tc.flatten(x, 1)\n",
    "        x = tc.sigmoid(self.fc1(x))\n",
    "        return x\n",
    "\n",
    "net = Net()"
   ]
  },
  {
   "cell_type": "code",
   "execution_count": 45,
   "id": "05ce44be",
   "metadata": {},
   "outputs": [
    {
     "name": "stdout",
     "output_type": "stream",
     "text": [
      "Net(\n",
      "  (conv1): Conv1d(1, 1, kernel_size=(101,), stride=(1,))\n",
      "  (pool1): MaxPool1d(kernel_size=100, stride=100, padding=0, dilation=1, ceil_mode=False)\n",
      "  (conv2): Conv1d(1, 1, kernel_size=(10,), stride=(1,))\n",
      "  (pool2): MaxPool1d(kernel_size=10, stride=10, padding=0, dilation=1, ceil_mode=False)\n",
      "  (fc1): Linear(in_features=14, out_features=1, bias=True)\n",
      ")\n"
     ]
    }
   ],
   "source": [
    "print(net)"
   ]
  },
  {
   "cell_type": "markdown",
   "id": "90d9faad",
   "metadata": {},
   "source": [
    "## Generate training/testing sets"
   ]
  },
  {
   "cell_type": "code",
   "execution_count": 46,
   "id": "49cbd34b",
   "metadata": {},
   "outputs": [],
   "source": [
    "# This is the model to generate x & y for training\n",
    "\n",
    "num_samples = 10000\n",
    "\n",
    "def model_Normal(sd_multiplyer, num_samples):\n",
    "    signal = tc.sin(tc.linspace(1, 1e10, 15000)).repeat(num_samples, 1)\n",
    "    noise = dist.Normal(tc.tensor(0.).repeat(num_samples, 1), tc.tensor(1.).repeat(num_samples, 1)).sample()\n",
    "    return(tc.add(signal, noise))"
   ]
  },
  {
   "cell_type": "code",
   "execution_count": 47,
   "id": "a2148805",
   "metadata": {},
   "outputs": [],
   "source": [
    "labels = []\n",
    "series = []\n",
    "for _ in range(num_samples):\n",
    "    label = dist.Bernoulli(0.5).sample()\n",
    "    labels.append(label)\n",
    "\n",
    "    if tc.equal(label, tc.tensor(0.)):\n",
    "        series.append(model_Normal(1, 1))\n",
    "    else:\n",
    "        series.append(model_Normal(1.2, 1))"
   ]
  },
  {
   "cell_type": "code",
   "execution_count": 48,
   "id": "c8dad612",
   "metadata": {},
   "outputs": [],
   "source": [
    "class CustomSeriesLoader(Dataset):\n",
    "    def __init__(self, series, labels):\n",
    "        self.series = series\n",
    "        self.labels = labels\n",
    "\n",
    "    def __len__(self):\n",
    "        return len(self.labels)\n",
    "\n",
    "    def __getitem__(self, idx):\n",
    "        return tc.reshape(self.series[idx], [1, 1, 15000]), tc.reshape(self.labels[idx], [1,1])"
   ]
  },
  {
   "cell_type": "code",
   "execution_count": 49,
   "id": "6a2e6e7b",
   "metadata": {},
   "outputs": [],
   "source": [
    "data_loader = CustomSeriesLoader(series, labels)"
   ]
  },
  {
   "cell_type": "code",
   "execution_count": 50,
   "id": "07620189",
   "metadata": {},
   "outputs": [],
   "source": [
    "training_len = 6000\n",
    "testing_len = num_samples - training_len"
   ]
  },
  {
   "cell_type": "code",
   "execution_count": 51,
   "id": "a7b44801",
   "metadata": {},
   "outputs": [],
   "source": [
    "train, test = random_split(data_loader, [training_len, testing_len], generator= tc.Generator().manual_seed(42))"
   ]
  },
  {
   "cell_type": "code",
   "execution_count": 52,
   "id": "4cdc084c",
   "metadata": {},
   "outputs": [],
   "source": [
    "# Not used, need to modify the batch size\n",
    "# train_dataloader = DataLoader(train, batch_size=64, shuffle=True)\n",
    "# test_dataloader = DataLoader(test, batch_size=64, shuffle=True)"
   ]
  },
  {
   "cell_type": "markdown",
   "id": "235b7e13",
   "metadata": {},
   "source": [
    "## Optimizer setup"
   ]
  },
  {
   "cell_type": "code",
   "execution_count": 53,
   "id": "17fdb6e7",
   "metadata": {},
   "outputs": [],
   "source": [
    "criterion = nn.BCELoss()\n",
    "optimizer = optim.SGD(net.parameters(), lr=0.001, momentum=0.9)"
   ]
  },
  {
   "cell_type": "code",
   "execution_count": 74,
   "id": "e0bb411b",
   "metadata": {},
   "outputs": [],
   "source": [
    "optimization_trace = []\n",
    "epoch_trace = []\n",
    "running_loss = 0.\n",
    "net.train()\n",
    "\n",
    "\n",
    "for _ in range(10): # num of epoch\n",
    "    \n",
    "    epoch_correct = 0\n",
    "\n",
    "    for i, data in enumerate(train, 0):\n",
    "\n",
    "        inputs, labels = data\n",
    "\n",
    "        # zero the parameter gradients\n",
    "        optimizer.zero_grad()\n",
    "        \n",
    "        # predict labels\n",
    "        outputs = net(inputs)\n",
    "        pred_label = tc.tensor(0.) if tc.le(outputs, tc.tensor(0.5)) else tc.tensor(1.)\n",
    "        if pred_label == labels: epoch_correct += 1\n",
    "        \n",
    "        # loss and step\n",
    "        loss = criterion(outputs, labels)\n",
    "        loss.backward()\n",
    "        optimizer.step()\n",
    "        \n",
    "        # Record runs\n",
    "        running_loss += loss.item()\n",
    "        optimization_trace.append(running_loss)\n",
    "\n",
    "\n",
    "    epoch_trace.append(epoch_correct/training_len)\n",
    "        "
   ]
  },
  {
   "cell_type": "code",
   "execution_count": 75,
   "id": "2dc2a1ed",
   "metadata": {},
   "outputs": [
    {
     "data": {
      "text/plain": [
       "[0.5035,\n",
       " 0.5035,\n",
       " 0.5035,\n",
       " 0.5035,\n",
       " 0.5035,\n",
       " 0.5035,\n",
       " 0.5035,\n",
       " 0.5035,\n",
       " 0.5035,\n",
       " 0.5035]"
      ]
     },
     "execution_count": 75,
     "metadata": {},
     "output_type": "execute_result"
    }
   ],
   "source": [
    "epoch_trace"
   ]
  },
  {
   "cell_type": "code",
   "execution_count": 76,
   "id": "4de81668",
   "metadata": {},
   "outputs": [
    {
     "data": {
      "text/plain": [
       "[<matplotlib.lines.Line2D at 0x13dab2fe0>]"
      ]
     },
     "execution_count": 76,
     "metadata": {},
     "output_type": "execute_result"
    },
    {
     "data": {
      "image/png": "[encoded data removed]",
      "text/plain": [
       "<Figure size 640x480 with 1 Axes>"
      ]
     },
     "metadata": {},
     "output_type": "display_data"
    }
   ],
   "source": [
    "plt.plot(optimization_trace)"
   ]
  },
  {
   "cell_type": "code",
   "execution_count": 78,
   "id": "aa6d43d7",
   "metadata": {},
   "outputs": [
    {
     "name": "stdout",
     "output_type": "stream",
     "text": [
      "0.7625\n"
     ]
    }
   ],
   "source": [
    "acc = 0\n",
    "net.eval()\n",
    "with tc.no_grad():\n",
    "    for i, data in enumerate(train, 0):\n",
    "        inputs, labels = data\n",
    "        outputs = net(inputs)\n",
    "        pred_label = tc.tensor(0.) if tc.le(outputs, tc.tensor(0.5)) else tc.tensor(1.)\n",
    "        if pred_label == labels: acc += 1\n",
    "print(acc/testing_len)"
   ]
  },
  {
   "cell_type": "code",
   "execution_count": null,
   "id": "b8eaa1b8",
   "metadata": {},
   "outputs": [],
   "source": []
  }
 ],
 "metadata": {
  "kernelspec": {
   "display_name": "Python 3 (ipykernel)",
   "language": "python",
   "name": "python3"
  },
  "language_info": {
   "codemirror_mode": {
    "name": "ipython",
    "version": 3
   },
   "file_extension": ".py",
   "mimetype": "text/x-python",
   "name": "python",
   "nbconvert_exporter": "python",
   "pygments_lexer": "ipython3",
   "version": "3.10.7"
  }
 },
 "nbformat": 4,
 "nbformat_minor": 5
}
